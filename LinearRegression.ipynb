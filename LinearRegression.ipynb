{
  "nbformat": 4,
  "nbformat_minor": 0,
  "metadata": {
    "colab": {
      "name": "LinearRegression.ipynb",
      "provenance": [],
      "collapsed_sections": [],
      "authorship_tag": "ABX9TyP/bzrmR+SjzjSovKRQRoeJ",
      "include_colab_link": true
    },
    "kernelspec": {
      "name": "python3",
      "display_name": "Python 3"
    }
  },
  "cells": [
    {
      "cell_type": "markdown",
      "metadata": {
        "id": "view-in-github",
        "colab_type": "text"
      },
      "source": [
        "<a href=\"https://colab.research.google.com/github/romal96/GitActivite/blob/master/LinearRegression.ipynb\" target=\"_parent\"><img src=\"https://colab.research.google.com/assets/colab-badge.svg\" alt=\"Open In Colab\"/></a>"
      ]
    },
    {
      "cell_type": "code",
      "metadata": {
        "id": "RhOT-jvGWwzb",
        "colab_type": "code",
        "outputId": "2cfaf21c-4137-4e39-c503-57e44c2252fd",
        "colab": {
          "base_uri": "https://localhost:8080/",
          "height": 71
        }
      },
      "source": [
        "!pip install torch"
      ],
      "execution_count": 0,
      "outputs": [
        {
          "output_type": "stream",
          "text": [
            "Requirement already satisfied: torch in /usr/local/lib/python3.6/dist-packages (1.3.1)\n",
            "Requirement already satisfied: numpy in /usr/local/lib/python3.6/dist-packages (from torch) (1.17.5)\n"
          ],
          "name": "stdout"
        }
      ]
    },
    {
      "cell_type": "code",
      "metadata": {
        "id": "D-uvVix2XO7d",
        "colab_type": "code",
        "colab": {}
      },
      "source": [
        "import torch\n",
        "import torch.nn as nn\n",
        "import matplotlib.pyplot as plt\n",
        "import numpy as np"
      ],
      "execution_count": 0,
      "outputs": []
    },
    {
      "cell_type": "code",
      "metadata": {
        "id": "OER1ku1lckLY",
        "colab_type": "code",
        "outputId": "fff65e1b-8c8d-400d-f505-7dfb3db0537d",
        "colab": {
          "base_uri": "https://localhost:8080/",
          "height": 34
        }
      },
      "source": [
        "# We test our model:\n",
        "x = torch.tensor(2)\n",
        "forward(x)\n",
        "\n",
        "x = torch.tensor([2])\n",
        "forward(x)\n",
        "\n",
        "x = torch.tensor([[4], [7]])\n",
        "forward(x)"
      ],
      "execution_count": 0,
      "outputs": [
        {
          "output_type": "execute_result",
          "data": {
            "text/plain": [
              "tensor(7., grad_fn=<AddBackward0>)"
            ]
          },
          "metadata": {
            "tags": []
          },
          "execution_count": 31
        }
      ]
    },
    {
      "cell_type": "markdown",
      "metadata": {
        "id": "0sBhh28poFoS",
        "colab_type": "text"
      },
      "source": [
        "**Datas:**"
      ]
    },
    {
      "cell_type": "code",
      "metadata": {
        "id": "6BoeAB90g1DG",
        "colab_type": "code",
        "outputId": "eece0e91-dd92-4100-84ed-7347e66dc0aa",
        "colab": {
          "base_uri": "https://localhost:8080/",
          "height": 296
        }
      },
      "source": [
        "X = torch.randn(100, 1)*10 # \"*10\" to set up a larger range\n",
        "y = X + 3*torch.randn(100, 1)\n",
        "plt.plot(X.numpy(), y.numpy(), 'o')\n",
        "plt.ylabel('y')\n",
        "plt.xlabel(\"x\")"
      ],
      "execution_count": 0,
      "outputs": [
        {
          "output_type": "execute_result",
          "data": {
            "text/plain": [
              "Text(0.5, 0, 'x')"
            ]
          },
          "metadata": {
            "tags": []
          },
          "execution_count": 93
        },
        {
          "output_type": "display_data",
          "data": {
            "image/png": "[encoded data removed]",
            "text/plain": [
              "<Figure size 432x288 with 1 Axes>"
            ]
          },
          "metadata": {
            "tags": []
          }
        }
      ]
    },
    {
      "cell_type": "markdown",
      "metadata": {
        "id": "UpWnCruOW_Rt",
        "colab_type": "text"
      },
      "source": [
        "Linear model y=wx+b:\n",
        "- w = slope, weight\n",
        "- b = bias"
      ]
    },
    {
      "cell_type": "code",
      "metadata": {
        "id": "kBHYe2EWW3ve",
        "colab_type": "code",
        "colab": {}
      },
      "source": [
        "w = torch.tensor(3.0, requires_grad=True)\n",
        "b = torch.tensor(1.0, requires_grad=True)\n",
        "# we specified thhat we will need the gradient"
      ],
      "execution_count": 0,
      "outputs": []
    },
    {
      "cell_type": "code",
      "metadata": {
        "id": "XI9gwP6db0EE",
        "colab_type": "code",
        "colab": {}
      },
      "source": [
        "def forward(x):\n",
        "  y = w*x + b\n",
        "  return y"
      ],
      "execution_count": 0,
      "outputs": []
    },
    {
      "cell_type": "code",
      "metadata": {
        "id": "io5qD3YScSyM",
        "colab_type": "code",
        "colab": {}
      },
      "source": [
        "from torch.nn import Linear"
      ],
      "execution_count": 0,
      "outputs": []
    },
    {
      "cell_type": "code",
      "metadata": {
        "id": "MdB05oR3c_4m",
        "colab_type": "code",
        "outputId": "0168a8a5-2aab-41f4-bdaa-29deb5308d09",
        "colab": {
          "base_uri": "https://localhost:8080/",
          "height": 68
        }
      },
      "source": [
        "torch.manual_seed(1) # use of random values later\n",
        "model = Linear(in_features=1, out_features=1)\n",
        "print(model.bias, model.weight)"
      ],
      "execution_count": 0,
      "outputs": [
        {
          "output_type": "stream",
          "text": [
            "Parameter containing:\n",
            "tensor([-0.4414], requires_grad=True) Parameter containing:\n",
            "tensor([[0.5153]], requires_grad=True)\n"
          ],
          "name": "stdout"
        }
      ]
    },
    {
      "cell_type": "code",
      "metadata": {
        "id": "O2H8kpSMdIiA",
        "colab_type": "code",
        "outputId": "104f894a-6f72-4099-9827-2f8cdc3aa0d8",
        "colab": {
          "base_uri": "https://localhost:8080/",
          "height": 51
        }
      },
      "source": [
        "x = torch.tensor([[2.0], [3.3]])\n",
        "print(model(x))"
      ],
      "execution_count": 0,
      "outputs": [
        {
          "output_type": "stream",
          "text": [
            "tensor([[0.5891],\n",
            "        [1.2590]], grad_fn=<AddmmBackward>)\n"
          ],
          "name": "stdout"
        }
      ]
    },
    {
      "cell_type": "markdown",
      "metadata": {
        "id": "6ZYsa1IoeCej",
        "colab_type": "text"
      },
      "source": [
        "**Definition of a class for linear regression:**"
      ]
    },
    {
      "cell_type": "code",
      "metadata": {
        "id": "LNltNwXAen8W",
        "colab_type": "code",
        "colab": {}
      },
      "source": [
        "import torch.nn as nn"
      ],
      "execution_count": 0,
      "outputs": []
    },
    {
      "cell_type": "code",
      "metadata": {
        "id": "9C67coZadImB",
        "colab_type": "code",
        "colab": {}
      },
      "source": [
        "class LR(nn.Module): \n",
        "  def __init__(self, input_size, output_size): # initializer new instances of this class\n",
        "    super().__init__()\n",
        "    self.linear=nn.Linear(input_size, output_size)\n",
        "\n",
        "  def forward(self, x):\n",
        "    pred = self.linear(x)\n",
        "    return pred\n"
      ],
      "execution_count": 0,
      "outputs": []
    },
    {
      "cell_type": "code",
      "metadata": {
        "id": "RviqGZzqdIsB",
        "colab_type": "code",
        "outputId": "b3bcc8c4-eb57-4769-a1b8-f08629118633",
        "colab": {
          "base_uri": "https://localhost:8080/",
          "height": 68
        }
      },
      "source": [
        "torch.manual_seed(1)\n",
        "model = LR(1, 1)\n",
        "print(list(model.parameters()))"
      ],
      "execution_count": 0,
      "outputs": [
        {
          "output_type": "stream",
          "text": [
            "[Parameter containing:\n",
            "tensor([[0.5153]], requires_grad=True), Parameter containing:\n",
            "tensor([-0.4414], requires_grad=True)]\n"
          ],
          "name": "stdout"
        }
      ]
    },
    {
      "cell_type": "code",
      "metadata": {
        "id": "eTwrQm9NdIuc",
        "colab_type": "code",
        "outputId": "fbb684a1-9461-4e39-cc94-6698555cc30f",
        "colab": {
          "base_uri": "https://localhost:8080/",
          "height": 51
        }
      },
      "source": [
        "x = torch.tensor([[1.0], [2.0]])\n",
        "model.forward(x)"
      ],
      "execution_count": 0,
      "outputs": [
        {
          "output_type": "execute_result",
          "data": {
            "text/plain": [
              "tensor([[0.0739],\n",
              "        [0.5891]], grad_fn=<AddmmBackward>)"
            ]
          },
          "metadata": {
            "tags": []
          },
          "execution_count": 102
        }
      ]
    },
    {
      "cell_type": "code",
      "metadata": {
        "id": "77BJaa3WdIwu",
        "colab_type": "code",
        "outputId": "e1c7631c-6478-4a33-e83b-53310dff1c21",
        "colab": {
          "base_uri": "https://localhost:8080/",
          "height": 51
        }
      },
      "source": [
        "x = torch.tensor([[1.0], [2.0]])\n",
        "print(model.forward(x))"
      ],
      "execution_count": 0,
      "outputs": [
        {
          "output_type": "stream",
          "text": [
            "tensor([[0.0739],\n",
            "        [0.5891]], grad_fn=<AddmmBackward>)\n"
          ],
          "name": "stdout"
        }
      ]
    },
    {
      "cell_type": "code",
      "metadata": {
        "id": "4DZwcmjKdI0L",
        "colab_type": "code",
        "colab": {}
      },
      "source": [
        ""
      ],
      "execution_count": 0,
      "outputs": []
    },
    {
      "cell_type": "code",
      "metadata": {
        "id": "4DjVL3dxdI4b",
        "colab_type": "code",
        "outputId": "2a344b20-1cee-41a8-ff4f-9e02ec2b5535",
        "colab": {
          "base_uri": "https://localhost:8080/",
          "height": 85
        }
      },
      "source": [
        "w = torch.tensor(3.0, requires_grad=True)\n",
        "b = torch.tensor(1.0, requires_grad=True)\n",
        "[w, b] = model.parameters()\n",
        "print(w, b)\n",
        "w1 = w[0][0].item()\n",
        "b1 = b[0].item()\n",
        "print(w1, b1)\n",
        "\n",
        "def get_params():\n",
        "  return (w[0][0].item(), b[0].item())"
      ],
      "execution_count": 0,
      "outputs": [
        {
          "output_type": "stream",
          "text": [
            "Parameter containing:\n",
            "tensor([[0.5153]], requires_grad=True) Parameter containing:\n",
            "tensor([-0.4414], requires_grad=True)\n",
            "0.5152631998062134 -0.44137823581695557\n"
          ],
          "name": "stdout"
        }
      ]
    },
    {
      "cell_type": "code",
      "metadata": {
        "id": "rJ-3HCWSiI59",
        "colab_type": "code",
        "colab": {}
      },
      "source": [
        "def plot_fit(title):\n",
        "  plt.title = title\n",
        "  w1, b1 = get_params()\n",
        "  x1 = np.array([-30, 30])\n",
        "  y1 = w1*x1+b1\n",
        "  plt.plot(x1, y1, 'r') # \"r\" for red \n",
        "  plt.scatter(X, y)\n",
        "  plt.show()\n"
      ],
      "execution_count": 0,
      "outputs": []
    },
    {
      "cell_type": "code",
      "metadata": {
        "id": "_T_jLRgndI3P",
        "colab_type": "code",
        "outputId": "05dddb09-971f-4cfa-e559-95730cf8ed47",
        "colab": {
          "base_uri": "https://localhost:8080/",
          "height": 265
        }
      },
      "source": [
        "plot_fit(\"Initial Model\")"
      ],
      "execution_count": 0,
      "outputs": [
        {
          "output_type": "display_data",
          "data": {
            "image/png": "[encoded data removed]",
            "text/plain": [
              "<Figure size 432x288 with 1 Axes>"
            ]
          },
          "metadata": {
            "tags": []
          }
        }
      ]
    },
    {
      "cell_type": "markdown",
      "metadata": {
        "id": "1JIQyUGljUpR",
        "colab_type": "text"
      },
      "source": [
        "This is not thhe line that best fits our data ; let us use **gradient descent**!"
      ]
    },
    {
      "cell_type": "code",
      "metadata": {
        "id": "sdR7vgsidIyu",
        "colab_type": "code",
        "colab": {}
      },
      "source": [
        "criterion = nn.MSELoss()\n",
        "optimizer = torch.optim.SGD(model.parameters(), lr=0.01) # gotta check what are thr advantages of SGD algo\n",
        "\n"
      ],
      "execution_count": 0,
      "outputs": []
    },
    {
      "cell_type": "markdown",
      "metadata": {
        "id": "fiGyw02xmLK2",
        "colab_type": "text"
      },
      "source": [
        "A too large value of Epochs -> Overfitting ; otherwise, Underfitting"
      ]
    },
    {
      "cell_type": "code",
      "metadata": {
        "id": "jIneAO_il9hR",
        "colab_type": "code",
        "outputId": "5835d169-8230-420c-8ce9-cb0c79cf831c",
        "colab": {
          "base_uri": "https://localhost:8080/",
          "height": 1000
        }
      },
      "source": [
        "\n",
        "\n",
        "epochs = 100\n",
        "losses = []\n",
        "for i in range(epochs):\n",
        "  y_pred = model.forward(X)\n",
        "  loss = criterion(y_pred, y)\n",
        "  print(\"epoch:\", i, \"loss:\", loss.item())\n",
        "\n",
        "  losses.append(loss)\n",
        "  optimizer.zero_grad() # set value to 0 as graident is gonna accumulate values...\n",
        "  loss.backward()\n",
        "  optimizer.step()\n"
      ],
      "execution_count": 0,
      "outputs": [
        {
          "output_type": "stream",
          "text": [
            "epoch: 0 loss: 28.914575576782227\n",
            "epoch: 1 loss: 20.61296844482422\n",
            "epoch: 2 loss: 15.965325355529785\n",
            "epoch: 3 loss: 13.363329887390137\n",
            "epoch: 4 loss: 11.906599044799805\n",
            "epoch: 5 loss: 11.091031074523926\n",
            "epoch: 6 loss: 10.634418487548828\n",
            "epoch: 7 loss: 10.378766059875488\n",
            "epoch: 8 loss: 10.235620498657227\n",
            "epoch: 9 loss: 10.155462265014648\n",
            "epoch: 10 loss: 10.110568046569824\n",
            "epoch: 11 loss: 10.085416793823242\n",
            "epoch: 12 loss: 10.071319580078125\n",
            "epoch: 13 loss: 10.063411712646484\n",
            "epoch: 14 loss: 10.058968544006348\n",
            "epoch: 15 loss: 10.056467056274414\n",
            "epoch: 16 loss: 10.055052757263184\n",
            "epoch: 17 loss: 10.05424690246582\n",
            "epoch: 18 loss: 10.05378246307373\n",
            "epoch: 19 loss: 10.053510665893555\n",
            "epoch: 20 loss: 10.053346633911133\n",
            "epoch: 21 loss: 10.053242683410645\n",
            "epoch: 22 loss: 10.053174018859863\n",
            "epoch: 23 loss: 10.05312442779541\n",
            "epoch: 24 loss: 10.05308723449707\n",
            "epoch: 25 loss: 10.053055763244629\n",
            "epoch: 26 loss: 10.05302906036377\n",
            "epoch: 27 loss: 10.05300521850586\n",
            "epoch: 28 loss: 10.052983283996582\n",
            "epoch: 29 loss: 10.052962303161621\n",
            "epoch: 30 loss: 10.052942276000977\n",
            "epoch: 31 loss: 10.052924156188965\n",
            "epoch: 32 loss: 10.052906036376953\n",
            "epoch: 33 loss: 10.052888870239258\n",
            "epoch: 34 loss: 10.052872657775879\n",
            "epoch: 35 loss: 10.0528564453125\n",
            "epoch: 36 loss: 10.052842140197754\n",
            "epoch: 37 loss: 10.052826881408691\n",
            "epoch: 38 loss: 10.052813529968262\n",
            "epoch: 39 loss: 10.052800178527832\n",
            "epoch: 40 loss: 10.052786827087402\n",
            "epoch: 41 loss: 10.052775382995605\n",
            "epoch: 42 loss: 10.052762985229492\n",
            "epoch: 43 loss: 10.052751541137695\n",
            "epoch: 44 loss: 10.052741050720215\n",
            "epoch: 45 loss: 10.052729606628418\n",
            "epoch: 46 loss: 10.052720069885254\n",
            "epoch: 47 loss: 10.05271053314209\n",
            "epoch: 48 loss: 10.052700996398926\n",
            "epoch: 49 loss: 10.052692413330078\n",
            "epoch: 50 loss: 10.05268383026123\n",
            "epoch: 51 loss: 10.052675247192383\n",
            "epoch: 52 loss: 10.052667617797852\n",
            "epoch: 53 loss: 10.052659034729004\n",
            "epoch: 54 loss: 10.052652359008789\n",
            "epoch: 55 loss: 10.052645683288574\n",
            "epoch: 56 loss: 10.05263900756836\n",
            "epoch: 57 loss: 10.052632331848145\n",
            "epoch: 58 loss: 10.05262565612793\n",
            "epoch: 59 loss: 10.052619934082031\n",
            "epoch: 60 loss: 10.052614212036133\n",
            "epoch: 61 loss: 10.052608489990234\n",
            "epoch: 62 loss: 10.052603721618652\n",
            "epoch: 63 loss: 10.052597999572754\n",
            "epoch: 64 loss: 10.052593231201172\n",
            "epoch: 65 loss: 10.05258846282959\n",
            "epoch: 66 loss: 10.052584648132324\n",
            "epoch: 67 loss: 10.052579879760742\n",
            "epoch: 68 loss: 10.05257511138916\n",
            "epoch: 69 loss: 10.052571296691895\n",
            "epoch: 70 loss: 10.052567481994629\n",
            "epoch: 71 loss: 10.052563667297363\n",
            "epoch: 72 loss: 10.052560806274414\n",
            "epoch: 73 loss: 10.052556991577148\n",
            "epoch: 74 loss: 10.0525541305542\n",
            "epoch: 75 loss: 10.05255126953125\n",
            "epoch: 76 loss: 10.052547454833984\n",
            "epoch: 77 loss: 10.052545547485352\n",
            "epoch: 78 loss: 10.052541732788086\n",
            "epoch: 79 loss: 10.052538871765137\n",
            "epoch: 80 loss: 10.052536010742188\n",
            "epoch: 81 loss: 10.052534103393555\n",
            "epoch: 82 loss: 10.052532196044922\n",
            "epoch: 83 loss: 10.052529335021973\n",
            "epoch: 84 loss: 10.05252742767334\n",
            "epoch: 85 loss: 10.052525520324707\n",
            "epoch: 86 loss: 10.052523612976074\n",
            "epoch: 87 loss: 10.052521705627441\n",
            "epoch: 88 loss: 10.052519798278809\n",
            "epoch: 89 loss: 10.052517890930176\n",
            "epoch: 90 loss: 10.052515983581543\n",
            "epoch: 91 loss: 10.05251407623291\n",
            "epoch: 92 loss: 10.052513122558594\n",
            "epoch: 93 loss: 10.052511215209961\n",
            "epoch: 94 loss: 10.052510261535645\n",
            "epoch: 95 loss: 10.052508354187012\n",
            "epoch: 96 loss: 10.052506446838379\n",
            "epoch: 97 loss: 10.052505493164062\n",
            "epoch: 98 loss: 10.052504539489746\n",
            "epoch: 99 loss: 10.05250358581543\n"
          ],
          "name": "stdout"
        }
      ]
    },
    {
      "cell_type": "code",
      "metadata": {
        "id": "6rIruO50nWv0",
        "colab_type": "code",
        "outputId": "a958ccc1-f3dd-48f2-fe6f-ec59ed95270b",
        "colab": {
          "base_uri": "https://localhost:8080/",
          "height": 296
        }
      },
      "source": [
        "plt.plot(range(epochs), losses)\n",
        "plt.ylabel(\"Loss\")\n",
        "plt.xlabel(\"epoch\")"
      ],
      "execution_count": 0,
      "outputs": [
        {
          "output_type": "execute_result",
          "data": {
            "text/plain": [
              "Text(0.5, 0, 'epoch')"
            ]
          },
          "metadata": {
            "tags": []
          },
          "execution_count": 109
        },
        {
          "output_type": "display_data",
          "data": {
            "image/png": "[encoded data removed]",
            "text/plain": [
              "<Figure size 432x288 with 1 Axes>"
            ]
          },
          "metadata": {
            "tags": []
          }
        }
      ]
    },
    {
      "cell_type": "code",
      "metadata": {
        "id": "_lFhc64knkFu",
        "colab_type": "code",
        "outputId": "541f2ded-cee2-4c02-e22d-c295a583f038",
        "colab": {
          "base_uri": "https://localhost:8080/",
          "height": 265
        }
      },
      "source": [
        "plot_fit(\"Trained Model\")"
      ],
      "execution_count": 0,
      "outputs": [
        {
          "output_type": "display_data",
          "data": {
            "image/png": "[encoded data removed]",
            "text/plain": [
              "<Figure size 432x288 with 1 Axes>"
            ]
          },
          "metadata": {
            "tags": []
          }
        }
      ]
    }
  ]
}